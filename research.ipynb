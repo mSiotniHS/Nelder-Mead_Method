{
 "cells": [
  {
   "attachments": {},
   "cell_type": "markdown",
   "metadata": {},
   "source": [
    "# Исследование алгоритма Нелдера-Мида\n",
    "\n",
    "## Методология\n",
    "\n",
    "Изучение изменений параметров алгоритма проходит следующим образом:\n",
    "- Для поиска минимума взята функция Розенброка: $f(x,y) = (1-x)^2 + 100(y-x^2)^2$;\n",
    "- Формируется множество начальных симплексов;\n",
    "- Формируется множество параметров алгоритма;\n",
    "- Для каждой пары \"начальный симплекс\"-\"параметры алгоритма\" запускается алгоритм; будет работать, пока \"дисперсия\" не будет меньше 0.005\n",
    "- Фиксируем число итераций, сравниваем для начального симплекса по параметрам (и наоборот???)"
   ]
  },
  {
   "attachments": {},
   "cell_type": "markdown",
   "metadata": {},
   "source": [
    "## Исследование\n",
    "\n",
    "Подключаем библиотеки:"
   ]
  },
  {
   "cell_type": "code",
   "execution_count": 10,
   "metadata": {
    "dotnet_interactive": {
     "language": "csharp"
    },
    "polyglot_notebook": {
     "kernelName": "csharp"
    }
   },
   "outputs": [],
   "source": [
    "#r \".\\Lib\\bin\\Debug\\net7.0\\Lib.dll\"\n",
    "\n",
    "using Lib.Math;\n",
    "using Lib.Common;\n",
    "using Lib.Helpers;\n",
    "using System.Collections.Generic;\n",
    "using System.Linq;"
   ]
  },
  {
   "attachments": {},
   "cell_type": "markdown",
   "metadata": {},
   "source": [
    "Формируем набор начальных симплексов --- сгенерируем 10:"
   ]
  },
  {
   "cell_type": "code",
   "execution_count": 11,
   "metadata": {
    "dotnet_interactive": {
     "language": "csharp"
    },
    "polyglot_notebook": {
     "kernelName": "csharp"
    }
   },
   "outputs": [
    {
     "data": {
      "text/html": [
       "<table><thead><tr><th><i>index</i></th><th>value</th></tr></thead><tbody><tr><td>0</td><td><table><thead><tr><th><i>index</i></th><th>value</th></tr></thead><tbody><tr><td>0</td><td><div class=\"dni-plaintext\"><pre>[ 24.102655164637937, -3.053878934011067 ]</pre></div></td></tr><tr><td>1</td><td><div class=\"dni-plaintext\"><pre>[ -20.38163042362179, 31.530944410677748 ]</pre></div></td></tr><tr><td>2</td><td><div class=\"dni-plaintext\"><pre>[ 8.805621455264003, -47.41554003469417 ]</pre></div></td></tr></tbody></table></td></tr><tr><td>1</td><td><table><thead><tr><th><i>index</i></th><th>value</th></tr></thead><tbody><tr><td>0</td><td><div class=\"dni-plaintext\"><pre>[ -43.103066413680445, 49.22256902577887 ]</pre></div></td></tr><tr><td>1</td><td><div class=\"dni-plaintext\"><pre>[ -3.0978742717807535, -30.692589228701404 ]</pre></div></td></tr><tr><td>2</td><td><div class=\"dni-plaintext\"><pre>[ -17.726882768434734, -33.70641216128855 ]</pre></div></td></tr></tbody></table></td></tr><tr><td>2</td><td><table><thead><tr><th><i>index</i></th><th>value</th></tr></thead><tbody><tr><td>0</td><td><div class=\"dni-plaintext\"><pre>[ 1.411164037482692, -31.039421913102117 ]</pre></div></td></tr><tr><td>1</td><td><div class=\"dni-plaintext\"><pre>[ -9.385691919989569, -14.600486605794885 ]</pre></div></td></tr><tr><td>2</td><td><div class=\"dni-plaintext\"><pre>[ -26.06245018897566, -9.090523349400002 ]</pre></div></td></tr></tbody></table></td></tr><tr><td>3</td><td><table><thead><tr><th><i>index</i></th><th>value</th></tr></thead><tbody><tr><td>0</td><td><div class=\"dni-plaintext\"><pre>[ 24.021904498794683, -18.730667747104523 ]</pre></div></td></tr><tr><td>1</td><td><div class=\"dni-plaintext\"><pre>[ 41.260695603234225, -32.779458272699856 ]</pre></div></td></tr><tr><td>2</td><td><div class=\"dni-plaintext\"><pre>[ 20.950420261984675, 10.718525977794947 ]</pre></div></td></tr></tbody></table></td></tr><tr><td>4</td><td><table><thead><tr><th><i>index</i></th><th>value</th></tr></thead><tbody><tr><td>0</td><td><div class=\"dni-plaintext\"><pre>[ 16.884400841616227, -22.90670931082437 ]</pre></div></td></tr><tr><td>1</td><td><div class=\"dni-plaintext\"><pre>[ 11.084396067812385, 9.847208669936478 ]</pre></div></td></tr><tr><td>2</td><td><div class=\"dni-plaintext\"><pre>[ -41.730517746545445, 31.93041356102222 ]</pre></div></td></tr></tbody></table></td></tr><tr><td>5</td><td><table><thead><tr><th><i>index</i></th><th>value</th></tr></thead><tbody><tr><td>0</td><td><div class=\"dni-plaintext\"><pre>[ -23.312101607354506, 13.74578182951415 ]</pre></div></td></tr><tr><td>1</td><td><div class=\"dni-plaintext\"><pre>[ 38.37213459928557, 17.95722620601296 ]</pre></div></td></tr><tr><td>2</td><td><div class=\"dni-plaintext\"><pre>[ -33.767026777030466, 45.73163988617614 ]</pre></div></td></tr></tbody></table></td></tr><tr><td>6</td><td><table><thead><tr><th><i>index</i></th><th>value</th></tr></thead><tbody><tr><td>0</td><td><div class=\"dni-plaintext\"><pre>[ 0.7580829617789817, 20.777695828115327 ]</pre></div></td></tr><tr><td>1</td><td><div class=\"dni-plaintext\"><pre>[ 4.402898662929125, 15.885798639239383 ]</pre></div></td></tr><tr><td>2</td><td><div class=\"dni-plaintext\"><pre>[ -15.132437415683818, -5.473246137767433 ]</pre></div></td></tr></tbody></table></td></tr><tr><td>7</td><td><table><thead><tr><th><i>index</i></th><th>value</th></tr></thead><tbody><tr><td>0</td><td><div class=\"dni-plaintext\"><pre>[ -48.27223745974405, 26.62645298482424 ]</pre></div></td></tr><tr><td>1</td><td><div class=\"dni-plaintext\"><pre>[ 1.5106782230896911, -44.829946514431825 ]</pre></div></td></tr><tr><td>2</td><td><div class=\"dni-plaintext\"><pre>[ 3.147873313043192, 4.7888794692775605 ]</pre></div></td></tr></tbody></table></td></tr><tr><td>8</td><td><table><thead><tr><th><i>index</i></th><th>value</th></tr></thead><tbody><tr><td>0</td><td><div class=\"dni-plaintext\"><pre>[ -28.62158470043463, -22.106302201427162 ]</pre></div></td></tr><tr><td>1</td><td><div class=\"dni-plaintext\"><pre>[ 27.43904875472974, 22.756903541714536 ]</pre></div></td></tr><tr><td>2</td><td><div class=\"dni-plaintext\"><pre>[ -21.92276214773836, -14.930748234045808 ]</pre></div></td></tr></tbody></table></td></tr><tr><td>9</td><td><table><thead><tr><th><i>index</i></th><th>value</th></tr></thead><tbody><tr><td>0</td><td><div class=\"dni-plaintext\"><pre>[ 4.109320742529455, -19.775644430808104 ]</pre></div></td></tr><tr><td>1</td><td><div class=\"dni-plaintext\"><pre>[ -44.751687093989226, 14.794556595943106 ]</pre></div></td></tr><tr><td>2</td><td><div class=\"dni-plaintext\"><pre>[ 28.857810779938717, -45.09675925865718 ]</pre></div></td></tr></tbody></table></td></tr></tbody></table><style>\r\n",
       ".dni-code-hint {\r\n",
       "    font-style: italic;\r\n",
       "    overflow: hidden;\r\n",
       "    white-space: nowrap;\r\n",
       "}\r\n",
       ".dni-treeview {\r\n",
       "    white-space: nowrap;\r\n",
       "}\r\n",
       ".dni-treeview td {\r\n",
       "    vertical-align: top;\r\n",
       "    text-align: start;\r\n",
       "}\r\n",
       "details.dni-treeview {\r\n",
       "    padding-left: 1em;\r\n",
       "}\r\n",
       "table td {\r\n",
       "    text-align: start;\r\n",
       "}\r\n",
       "table tr { \r\n",
       "    vertical-align: top; \r\n",
       "    margin: 0em 0px;\r\n",
       "}\r\n",
       "table tr td pre \r\n",
       "{ \r\n",
       "    vertical-align: top !important; \r\n",
       "    margin: 0em 0px !important;\r\n",
       "} \r\n",
       "table th {\r\n",
       "    text-align: start;\r\n",
       "}\r\n",
       "</style>"
      ]
     },
     "metadata": {},
     "output_type": "display_data"
    }
   ],
   "source": [
    "static IEnumerable<Point> GenerateRandomPoints(uint count, uint dimension) => Lib.Utilities.Generate(count, () => Lib.Utilities.RandomPoint(dimension));\n",
    "\n",
    "var simplexes = new List<Simplex> { new Simplex(new List<Point> {\n",
    "new Point(24.102655164637937, -3.053878934011067),\n",
    "new Point(-20.38163042362179, 31.530944410677748),\n",
    "new Point(8.805621455264003, -47.41554003469417),\n",
    "}),\n",
    "new Simplex(new List<Point> {\n",
    "new Point(-43.103066413680445, 49.22256902577887),\n",
    "new Point(-3.0978742717807535, -30.692589228701404),\n",
    "new Point(-17.726882768434734, -33.70641216128855),\n",
    "}),\n",
    "new Simplex(new List<Point> {\n",
    "new Point(1.411164037482692, -31.039421913102117),\n",
    "new Point(-9.385691919989569, -14.600486605794885),\n",
    "new Point(-26.06245018897566, -9.090523349400002),\n",
    "}),\n",
    "new Simplex(new List<Point> {\n",
    "new Point(24.021904498794683, -18.730667747104523),\n",
    "new Point(41.260695603234225, -32.779458272699856),\n",
    "new Point(20.950420261984675, 10.718525977794947),\n",
    "}),\n",
    "new Simplex(new List<Point> {\n",
    "new Point(16.884400841616227, -22.90670931082437),\n",
    "new Point(11.084396067812385, 9.847208669936478),\n",
    "new Point(-41.730517746545445, 31.93041356102222),\n",
    "}),\n",
    "new Simplex(new List<Point> {\n",
    "new Point(-23.312101607354506, 13.74578182951415),\n",
    "new Point(38.37213459928557, 17.95722620601296),\n",
    "new Point(-33.767026777030466, 45.73163988617614),\n",
    "}),\n",
    "new Simplex(new List<Point> {\n",
    "new Point(0.7580829617789817, 20.777695828115327),\n",
    "new Point(4.402898662929125, 15.885798639239383),\n",
    "new Point(-15.132437415683818, -5.473246137767433),\n",
    "}),\n",
    "new Simplex(new List<Point> {\n",
    "new Point(-48.27223745974405, 26.62645298482424),\n",
    "new Point(1.5106782230896911, -44.829946514431825),\n",
    "new Point(3.147873313043192, 4.7888794692775605),\n",
    "}),\n",
    "new Simplex(new List<Point> {\n",
    "new Point(-28.62158470043463, -22.106302201427162),\n",
    "new Point(27.43904875472974, 22.756903541714536),\n",
    "new Point(-21.92276214773836, -14.930748234045808),\n",
    "}),\n",
    "new Simplex(new List<Point> {\n",
    "new Point(4.109320742529455, -19.775644430808104),\n",
    "new Point(-44.751687093989226, 14.794556595943106),\n",
    "new Point(28.857810779938717, -45.09675925865718)})};\n",
    "simplexes"
   ]
  },
  {
   "attachments": {},
   "cell_type": "markdown",
   "metadata": {},
   "source": [
    "Рассмотрим следующие параметры алгоритма:\n",
    "\n",
    "| Название           | Отражение $\\alpha$ | Растяжение $\\gamma$ | Сжатие $\\beta$ |\n",
    "| ------------------ | ------------------- | -------------------- | --------------- |\n",
    "| Классика           | 1                   | 2                    | 0.5             |\n",
    "| Сильное растяжение | 1                   | 2.5                  | 0.5             |\n",
    "| Слабое растяжение  | 1                   | 1.5                  | 0.5             |\n",
    "| Сильное отражение  | 1.25                | 2                    | 0.5             |\n",
    "| Слабое отражение   | 0.75                | 2                    | 0.5             |\n",
    "| Сильное сжатие     | 1                   | 2                    | 0.75            |\n",
    "| Слабое сжатие      | 1                   | 2                    | 0.25            |"
   ]
  },
  {
   "cell_type": "code",
   "execution_count": 12,
   "metadata": {
    "dotnet_interactive": {
     "language": "csharp"
    },
    "polyglot_notebook": {
     "kernelName": "csharp"
    }
   },
   "outputs": [],
   "source": [
    "var coefficients = new List<Lib.Coefficients> {\n",
    "\tnew Lib.Coefficients { Reflection = 1,    Expansion = 2,   Shrink = 0.5  },\n",
    "\tnew Lib.Coefficients { Reflection = 1,    Expansion = 2.5, Shrink = 0.5  },\n",
    "\tnew Lib.Coefficients { Reflection = 1,    Expansion = 1.5, Shrink = 0.5  },\n",
    "\tnew Lib.Coefficients { Reflection = 1.25, Expansion = 2,   Shrink = 0.5  },\n",
    "\tnew Lib.Coefficients { Reflection = 0.75, Expansion = 2,   Shrink = 0.5  },\n",
    "\tnew Lib.Coefficients { Reflection = 1,    Expansion = 2,   Shrink = 0.75 },\n",
    "\tnew Lib.Coefficients { Reflection = 1,    Expansion = 2,   Shrink = 0.25 },\n",
    "};"
   ]
  },
  {
   "attachments": {},
   "cell_type": "markdown",
   "metadata": {},
   "source": [
    "Определим функции, которые упростят проведение исследования:"
   ]
  },
  {
   "cell_type": "code",
   "execution_count": 13,
   "metadata": {
    "dotnet_interactive": {
     "language": "csharp"
    },
    "polyglot_notebook": {
     "kernelName": "csharp"
    }
   },
   "outputs": [],
   "source": [
    "(Point, uint) RunSample(\n",
    "\tRealMultivariableFunction function,\n",
    "\tSimplex initialSimplex,\n",
    "\tLib.Coefficients coefficients,\n",
    "\tdouble epsilon\n",
    ")\n",
    "{\n",
    "\tvar method = new Lib.NelderMeadMethod(coefficients, EvaluationStrategyCollection.LastVarianceIsLessThan(epsilon));\n",
    "\tvar solution = method.FindMinimum(function, new RealCoordinateSpace(2),initialSimplex, new Lib.Helpers.EmptyLogger(), out var statistics);\n",
    "\treturn (solution, statistics.IterationCount);\n",
    "}\n",
    "\n",
    "(Point, uint)[,] RunResearch(\n",
    "\tList<Simplex> initialSimplexes,\n",
    "\tList<Lib.Coefficients> coefficientsSet,\n",
    "\tRealMultivariableFunction function,\n",
    "\tdouble epsilon)\n",
    "{\n",
    "\tvar data = new (Point, uint)[initialSimplexes.Count, coefficientsSet.Count];\n",
    "\n",
    "\tfor (var i = 0; i < initialSimplexes.Count; i++)\n",
    "\t{\n",
    "\t\tvar simplex = initialSimplexes[i];\n",
    "\t\t\n",
    "\t\tfor (var j = 0; j < coefficientsSet.Count; j++)\n",
    "\t\t{\n",
    "\t\t\tvar coefficients = coefficientsSet[j];\n",
    "\n",
    "\t\t\tdata[i,j] = RunSample(function, simplex, coefficients, epsilon);\n",
    "\t\t}\n",
    "\t}\n",
    "\n",
    "\treturn data;\n",
    "}"
   ]
  },
  {
   "attachments": {},
   "cell_type": "markdown",
   "metadata": {},
   "source": [
    "Соберём данные:"
   ]
  },
  {
   "cell_type": "code",
   "execution_count": 14,
   "metadata": {
    "dotnet_interactive": {
     "language": "csharp"
    },
    "polyglot_notebook": {
     "kernelName": "csharp"
    }
   },
   "outputs": [],
   "source": [
    "public sealed class Rosenbrock : RealMultivariableFunction\n",
    "{\n",
    "\tprivate readonly double _a;\n",
    "\tprivate readonly double _b;\n",
    "\n",
    "\tpublic Rosenbrock(double a, double b)\n",
    "\t{\n",
    "\t\t_a = a;\n",
    "\t\t_b = b;\n",
    "\t}\n",
    "\n",
    "\tpublic static Rosenbrock Classic() => new(1, 100);\n",
    "\n",
    "\tpublic override uint Dimension => 2;\n",
    "\n",
    "\tprotected override double BaseCalculate(Point point)\n",
    "\t{\n",
    "\t\tvar x = point[0];\n",
    "\t\tvar y = point[1];\n",
    "\n",
    "\t\treturn System.Math.Pow(_a - x, 2) + _b * System.Math.Pow(y - System.Math.Pow(x, 2), 2);\n",
    "\t}\n",
    "}"
   ]
  },
  {
   "cell_type": "code",
   "execution_count": 15,
   "metadata": {
    "dotnet_interactive": {
     "language": "csharp"
    },
    "polyglot_notebook": {
     "kernelName": "csharp"
    }
   },
   "outputs": [],
   "source": [
    "var data = RunResearch(simplexes, coefficients, Rosenbrock.Classic(), 0.005);"
   ]
  },
  {
   "attachments": {},
   "cell_type": "markdown",
   "metadata": {},
   "source": [
    "## Анализ полученных данных\n",
    "\n",
    "Отметим, что решением будет точка $(0, 0)$ --- нам так же важна близость к ней."
   ]
  },
  {
   "cell_type": "code",
   "execution_count": 16,
   "metadata": {
    "dotnet_interactive": {
     "language": "csharp"
    },
    "polyglot_notebook": {
     "kernelName": "csharp"
    }
   },
   "outputs": [
    {
     "data": {
      "text/html": [
       "<table><thead><tr><th><i>index</i></th><th>value</th></tr></thead><tbody><tr><td>0</td><td><details class=\"dni-treeview\"><summary><span class=\"dni-code-hint\"><code>((-2,3858605603316936, 5,65771992246168), 33)</code></span></summary><div><table><thead><tr></tr></thead><tbody><tr><td>Item1</td><td><div class=\"dni-plaintext\"><pre>[ -2.3858605603316936, 5.65771992246168 ]</pre></div></td></tr><tr><td>Item2</td><td><div class=\"dni-plaintext\"><pre>33</pre></div></td></tr></tbody></table></div></details></td></tr><tr><td>1</td><td><details class=\"dni-treeview\"><summary><span class=\"dni-code-hint\"><code>((-2,3858605603316936, 5,65771992246168), 33)</code></span></summary><div><table><thead><tr></tr></thead><tbody><tr><td>Item1</td><td><div class=\"dni-plaintext\"><pre>[ -2.3858605603316936, 5.65771992246168 ]</pre></div></td></tr><tr><td>Item2</td><td><div class=\"dni-plaintext\"><pre>33</pre></div></td></tr></tbody></table></div></details></td></tr><tr><td>2</td><td><details class=\"dni-treeview\"><summary><span class=\"dni-code-hint\"><code>((-0,4880244826737413, 0,19846293632365913), 116)</code></span></summary><div><table><thead><tr></tr></thead><tbody><tr><td>Item1</td><td><div class=\"dni-plaintext\"><pre>[ -0.4880244826737413, 0.19846293632365913 ]</pre></div></td></tr><tr><td>Item2</td><td><div class=\"dni-plaintext\"><pre>116</pre></div></td></tr></tbody></table></div></details></td></tr><tr><td>3</td><td><details class=\"dni-treeview\"><summary><span class=\"dni-code-hint\"><code>((-0,22906006450030147, 0,05626958853937575), 78)</code></span></summary><div><table><thead><tr></tr></thead><tbody><tr><td>Item1</td><td><div class=\"dni-plaintext\"><pre>[ -0.22906006450030147, 0.05626958853937575 ]</pre></div></td></tr><tr><td>Item2</td><td><div class=\"dni-plaintext\"><pre>78</pre></div></td></tr></tbody></table></div></details></td></tr><tr><td>4</td><td><details class=\"dni-treeview\"><summary><span class=\"dni-code-hint\"><code>((-4,4065998602333725, 19,40470163262161), 51)</code></span></summary><div><table><thead><tr></tr></thead><tbody><tr><td>Item1</td><td><div class=\"dni-plaintext\"><pre>[ -4.4065998602333725, 19.40470163262161 ]</pre></div></td></tr><tr><td>Item2</td><td><div class=\"dni-plaintext\"><pre>51</pre></div></td></tr></tbody></table></div></details></td></tr><tr><td>5</td><td><details class=\"dni-treeview\"><summary><span class=\"dni-code-hint\"><code>((1,2643348607377982, 1,5998547165131662), 105)</code></span></summary><div><table><thead><tr></tr></thead><tbody><tr><td>Item1</td><td><div class=\"dni-plaintext\"><pre>[ 1.2643348607377982, 1.5998547165131662 ]</pre></div></td></tr><tr><td>Item2</td><td><div class=\"dni-plaintext\"><pre>105</pre></div></td></tr></tbody></table></div></details></td></tr><tr><td>6</td><td><details class=\"dni-treeview\"><summary><span class=\"dni-code-hint\"><code>((-1,3685041520545664, 1,8352239151043945), 13)</code></span></summary><div><table><thead><tr></tr></thead><tbody><tr><td>Item1</td><td><div class=\"dni-plaintext\"><pre>[ -1.3685041520545664, 1.8352239151043945 ]</pre></div></td></tr><tr><td>Item2</td><td><div class=\"dni-plaintext\"><pre>13</pre></div></td></tr></tbody></table></div></details></td></tr><tr><td>7</td><td><details class=\"dni-treeview\"><summary><span class=\"dni-code-hint\"><code>((-0,2781520404910398, 0,05483953065367464), 104)</code></span></summary><div><table><thead><tr></tr></thead><tbody><tr><td>Item1</td><td><div class=\"dni-plaintext\"><pre>[ -0.2781520404910398, 0.05483953065367464 ]</pre></div></td></tr><tr><td>Item2</td><td><div class=\"dni-plaintext\"><pre>104</pre></div></td></tr></tbody></table></div></details></td></tr><tr><td>8</td><td><details class=\"dni-treeview\"><summary><span class=\"dni-code-hint\"><code>((-0,49662457628237244, 0,21991618624135312), 55)</code></span></summary><div><table><thead><tr></tr></thead><tbody><tr><td>Item1</td><td><div class=\"dni-plaintext\"><pre>[ -0.49662457628237244, 0.21991618624135312 ]</pre></div></td></tr><tr><td>Item2</td><td><div class=\"dni-plaintext\"><pre>55</pre></div></td></tr></tbody></table></div></details></td></tr><tr><td>9</td><td><details class=\"dni-treeview\"><summary><span class=\"dni-code-hint\"><code>((-0,6333409730242874, 0,3925141098638005), 93)</code></span></summary><div><table><thead><tr></tr></thead><tbody><tr><td>Item1</td><td><div class=\"dni-plaintext\"><pre>[ -0.6333409730242874, 0.3925141098638005 ]</pre></div></td></tr><tr><td>Item2</td><td><div class=\"dni-plaintext\"><pre>93</pre></div></td></tr></tbody></table></div></details></td></tr><tr><td>10</td><td><details class=\"dni-treeview\"><summary><span class=\"dni-code-hint\"><code>((-0,2998662794626431, 0,0890708498521439), 43)</code></span></summary><div><table><thead><tr></tr></thead><tbody><tr><td>Item1</td><td><div class=\"dni-plaintext\"><pre>[ -0.2998662794626431, 0.0890708498521439 ]</pre></div></td></tr><tr><td>Item2</td><td><div class=\"dni-plaintext\"><pre>43</pre></div></td></tr></tbody></table></div></details></td></tr><tr><td>11</td><td><details class=\"dni-treeview\"><summary><span class=\"dni-code-hint\"><code>((-1,1852323274626562, 1,366109289772866), 73)</code></span></summary><div><table><thead><tr></tr></thead><tbody><tr><td>Item1</td><td><div class=\"dni-plaintext\"><pre>[ -1.1852323274626562, 1.366109289772866 ]</pre></div></td></tr><tr><td>Item2</td><td><div class=\"dni-plaintext\"><pre>73</pre></div></td></tr></tbody></table></div></details></td></tr><tr><td>12</td><td><details class=\"dni-treeview\"><summary><span class=\"dni-code-hint\"><code>((0,22296655085791375, -0,005285057101775469), 51)</code></span></summary><div><table><thead><tr></tr></thead><tbody><tr><td>Item1</td><td><div class=\"dni-plaintext\"><pre>[ 0.22296655085791375, -0.005285057101775469 ]</pre></div></td></tr><tr><td>Item2</td><td><div class=\"dni-plaintext\"><pre>51</pre></div></td></tr></tbody></table></div></details></td></tr><tr><td>13</td><td><details class=\"dni-treeview\"><summary><span class=\"dni-code-hint\"><code>((-1,7560556469284803, 3,0582492360897167), 54)</code></span></summary><div><table><thead><tr></tr></thead><tbody><tr><td>Item1</td><td><div class=\"dni-plaintext\"><pre>[ -1.7560556469284803, 3.0582492360897167 ]</pre></div></td></tr><tr><td>Item2</td><td><div class=\"dni-plaintext\"><pre>54</pre></div></td></tr></tbody></table></div></details></td></tr><tr><td>14</td><td><details class=\"dni-treeview\"><summary><span class=\"dni-code-hint\"><code>((1,0769543018031027, 1,166475617841986), 29)</code></span></summary><div><table><thead><tr></tr></thead><tbody><tr><td>Item1</td><td><div class=\"dni-plaintext\"><pre>[ 1.0769543018031027, 1.166475617841986 ]</pre></div></td></tr><tr><td>Item2</td><td><div class=\"dni-plaintext\"><pre>29</pre></div></td></tr></tbody></table></div></details></td></tr><tr><td>15</td><td><details class=\"dni-treeview\"><summary><span class=\"dni-code-hint\"><code>((1,0470798484066655, 1,0985469374316144), 28)</code></span></summary><div><table><thead><tr></tr></thead><tbody><tr><td>Item1</td><td><div class=\"dni-plaintext\"><pre>[ 1.0470798484066655, 1.0985469374316144 ]</pre></div></td></tr><tr><td>Item2</td><td><div class=\"dni-plaintext\"><pre>28</pre></div></td></tr></tbody></table></div></details></td></tr><tr><td>16</td><td><details class=\"dni-treeview\"><summary><span class=\"dni-code-hint\"><code>((1,5787675512507158, 2,483676300667212), 28)</code></span></summary><div><table><thead><tr></tr></thead><tbody><tr><td>Item1</td><td><div class=\"dni-plaintext\"><pre>[ 1.5787675512507158, 2.483676300667212 ]</pre></div></td></tr><tr><td>Item2</td><td><div class=\"dni-plaintext\"><pre>28</pre></div></td></tr></tbody></table></div></details></td></tr><tr><td>17</td><td><details class=\"dni-treeview\"><summary><span class=\"dni-code-hint\"><code>((-0,4100245741826577, 0,132927220329231), 60)</code></span></summary><div><table><thead><tr></tr></thead><tbody><tr><td>Item1</td><td><div class=\"dni-plaintext\"><pre>[ -0.4100245741826577, 0.132927220329231 ]</pre></div></td></tr><tr><td>Item2</td><td><div class=\"dni-plaintext\"><pre>60</pre></div></td></tr></tbody></table></div></details></td></tr><tr><td>18</td><td><details class=\"dni-treeview\"><summary><span class=\"dni-code-hint\"><code>((1,2479756760279916, 1,5495218285418737), 38)</code></span></summary><div><table><thead><tr></tr></thead><tbody><tr><td>Item1</td><td><div class=\"dni-plaintext\"><pre>[ 1.2479756760279916, 1.5495218285418737 ]</pre></div></td></tr><tr><td>Item2</td><td><div class=\"dni-plaintext\"><pre>38</pre></div></td></tr></tbody></table></div></details></td></tr><tr><td>19</td><td><details class=\"dni-treeview\"><summary><span class=\"dni-code-hint\"><code>((-0,15325224523841507, -0,017369357456140877), 68)</code></span></summary><div><table><thead><tr></tr></thead><tbody><tr><td>Item1</td><td><div class=\"dni-plaintext\"><pre>[ -0.15325224523841507, -0.017369357456140877 ]</pre></div></td></tr><tr><td>Item2</td><td><div class=\"dni-plaintext\"><pre>68</pre></div></td></tr></tbody></table></div></details></td></tr><tr><td colspan=\"2\"><i>(50 more)</i></td></tr></tbody></table><style>\r\n",
       ".dni-code-hint {\r\n",
       "    font-style: italic;\r\n",
       "    overflow: hidden;\r\n",
       "    white-space: nowrap;\r\n",
       "}\r\n",
       ".dni-treeview {\r\n",
       "    white-space: nowrap;\r\n",
       "}\r\n",
       ".dni-treeview td {\r\n",
       "    vertical-align: top;\r\n",
       "    text-align: start;\r\n",
       "}\r\n",
       "details.dni-treeview {\r\n",
       "    padding-left: 1em;\r\n",
       "}\r\n",
       "table td {\r\n",
       "    text-align: start;\r\n",
       "}\r\n",
       "table tr { \r\n",
       "    vertical-align: top; \r\n",
       "    margin: 0em 0px;\r\n",
       "}\r\n",
       "table tr td pre \r\n",
       "{ \r\n",
       "    vertical-align: top !important; \r\n",
       "    margin: 0em 0px !important;\r\n",
       "} \r\n",
       "table th {\r\n",
       "    text-align: start;\r\n",
       "}\r\n",
       "</style>"
      ]
     },
     "metadata": {},
     "output_type": "display_data"
    }
   ],
   "source": [
    "data"
   ]
  },
  {
   "attachments": {},
   "cell_type": "markdown",
   "metadata": {},
   "source": [
    "Посмотрим, какой набор коэффициентов нашёл лучшее решение:"
   ]
  },
  {
   "cell_type": "code",
   "execution_count": 27,
   "metadata": {
    "dotnet_interactive": {
     "language": "csharp"
    },
    "polyglot_notebook": {
     "kernelName": "csharp"
    }
   },
   "outputs": [
    {
     "data": {
      "text/html": [
       "<table><thead><tr><th><i>index</i></th><th>value</th></tr></thead><tbody><tr><td>0</td><td><details class=\"dni-treeview\"><summary><span class=\"dni-code-hint\"><code>((-0,22906006450030147, 0,05626958853937575), 0,2358702604044709, 3)</code></span></summary><div><table><thead><tr></tr></thead><tbody><tr><td>Item1</td><td><div class=\"dni-plaintext\"><pre>[ -0.22906006450030147, 0.05626958853937575 ]</pre></div></td></tr><tr><td>Item2</td><td><div class=\"dni-plaintext\"><pre>0.2358702604044709</pre></div></td></tr><tr><td>Item3</td><td><div class=\"dni-plaintext\"><pre>3</pre></div></td></tr></tbody></table></div></details></td></tr><tr><td>1</td><td><details class=\"dni-treeview\"><summary><span class=\"dni-code-hint\"><code>((0,22296655085791375, -0,005285057101775469), 0,22302917887586743, 5)</code></span></summary><div><table><thead><tr></tr></thead><tbody><tr><td>Item1</td><td><div class=\"dni-plaintext\"><pre>[ 0.22296655085791375, -0.005285057101775469 ]</pre></div></td></tr><tr><td>Item2</td><td><div class=\"dni-plaintext\"><pre>0.22302917887586743</pre></div></td></tr><tr><td>Item3</td><td><div class=\"dni-plaintext\"><pre>5</pre></div></td></tr></tbody></table></div></details></td></tr><tr><td>2</td><td><details class=\"dni-treeview\"><summary><span class=\"dni-code-hint\"><code>((-0,15325224523841507, -0,017369357456140877), 0,1542334115846969, 5)</code></span></summary><div><table><thead><tr></tr></thead><tbody><tr><td>Item1</td><td><div class=\"dni-plaintext\"><pre>[ -0.15325224523841507, -0.017369357456140877 ]</pre></div></td></tr><tr><td>Item2</td><td><div class=\"dni-plaintext\"><pre>0.1542334115846969</pre></div></td></tr><tr><td>Item3</td><td><div class=\"dni-plaintext\"><pre>5</pre></div></td></tr></tbody></table></div></details></td></tr><tr><td>3</td><td><details class=\"dni-treeview\"><summary><span class=\"dni-code-hint\"><code>((0,032448799979948914, 0,021008616498080307), 0,03865600325049325, 5)</code></span></summary><div><table><thead><tr></tr></thead><tbody><tr><td>Item1</td><td><div class=\"dni-plaintext\"><pre>[ 0.032448799979948914, 0.021008616498080307 ]</pre></div></td></tr><tr><td>Item2</td><td><div class=\"dni-plaintext\"><pre>0.03865600325049325</pre></div></td></tr><tr><td>Item3</td><td><div class=\"dni-plaintext\"><pre>5</pre></div></td></tr></tbody></table></div></details></td></tr><tr><td>4</td><td><details class=\"dni-treeview\"><summary><span class=\"dni-code-hint\"><code>((0,1702034913433347, -0,019638033209300007), 0,1713326612581214, 5)</code></span></summary><div><table><thead><tr></tr></thead><tbody><tr><td>Item1</td><td><div class=\"dni-plaintext\"><pre>[ 0.1702034913433347, -0.019638033209300007 ]</pre></div></td></tr><tr><td>Item2</td><td><div class=\"dni-plaintext\"><pre>0.1713326612581214</pre></div></td></tr><tr><td>Item3</td><td><div class=\"dni-plaintext\"><pre>5</pre></div></td></tr></tbody></table></div></details></td></tr><tr><td>5</td><td><details class=\"dni-treeview\"><summary><span class=\"dni-code-hint\"><code>((1,1536704920120868, 1,341742294354259), 1,7695276173596277, 5)</code></span></summary><div><table><thead><tr></tr></thead><tbody><tr><td>Item1</td><td><div class=\"dni-plaintext\"><pre>[ 1.1536704920120868, 1.341742294354259 ]</pre></div></td></tr><tr><td>Item2</td><td><div class=\"dni-plaintext\"><pre>1.7695276173596277</pre></div></td></tr><tr><td>Item3</td><td><div class=\"dni-plaintext\"><pre>5</pre></div></td></tr></tbody></table></div></details></td></tr><tr><td>6</td><td><details class=\"dni-treeview\"><summary><span class=\"dni-code-hint\"><code>((-0,6694592850869182, 0,45979279833598075), 0,8121484789068557, 5)</code></span></summary><div><table><thead><tr></tr></thead><tbody><tr><td>Item1</td><td><div class=\"dni-plaintext\"><pre>[ -0.6694592850869182, 0.45979279833598075 ]</pre></div></td></tr><tr><td>Item2</td><td><div class=\"dni-plaintext\"><pre>0.8121484789068557</pre></div></td></tr><tr><td>Item3</td><td><div class=\"dni-plaintext\"><pre>5</pre></div></td></tr></tbody></table></div></details></td></tr><tr><td>7</td><td><details class=\"dni-treeview\"><summary><span class=\"dni-code-hint\"><code>((-0,26927838022963335, 0,044826820660121225), 0,27298404698734624, 0)</code></span></summary><div><table><thead><tr></tr></thead><tbody><tr><td>Item1</td><td><div class=\"dni-plaintext\"><pre>[ -0.26927838022963335, 0.044826820660121225 ]</pre></div></td></tr><tr><td>Item2</td><td><div class=\"dni-plaintext\"><pre>0.27298404698734624</pre></div></td></tr><tr><td>Item3</td><td><div class=\"dni-plaintext\"><pre>0</pre></div></td></tr></tbody></table></div></details></td></tr><tr><td>8</td><td><details class=\"dni-treeview\"><summary><span class=\"dni-code-hint\"><code>((-0,24513019749656045, 0,04352169812723733), 0,24896375626299724, 1)</code></span></summary><div><table><thead><tr></tr></thead><tbody><tr><td>Item1</td><td><div class=\"dni-plaintext\"><pre>[ -0.24513019749656045, 0.04352169812723733 ]</pre></div></td></tr><tr><td>Item2</td><td><div class=\"dni-plaintext\"><pre>0.24896375626299724</pre></div></td></tr><tr><td>Item3</td><td><div class=\"dni-plaintext\"><pre>1</pre></div></td></tr></tbody></table></div></details></td></tr><tr><td>9</td><td><details class=\"dni-treeview\"><summary><span class=\"dni-code-hint\"><code>((0,18350703078511044, 0,021354378635117167), 0,1847453377881548, 0)</code></span></summary><div><table><thead><tr></tr></thead><tbody><tr><td>Item1</td><td><div class=\"dni-plaintext\"><pre>[ 0.18350703078511044, 0.021354378635117167 ]</pre></div></td></tr><tr><td>Item2</td><td><div class=\"dni-plaintext\"><pre>0.1847453377881548</pre></div></td></tr><tr><td>Item3</td><td><div class=\"dni-plaintext\"><pre>0</pre></div></td></tr></tbody></table></div></details></td></tr></tbody></table><style>\r\n",
       ".dni-code-hint {\r\n",
       "    font-style: italic;\r\n",
       "    overflow: hidden;\r\n",
       "    white-space: nowrap;\r\n",
       "}\r\n",
       ".dni-treeview {\r\n",
       "    white-space: nowrap;\r\n",
       "}\r\n",
       ".dni-treeview td {\r\n",
       "    vertical-align: top;\r\n",
       "    text-align: start;\r\n",
       "}\r\n",
       "details.dni-treeview {\r\n",
       "    padding-left: 1em;\r\n",
       "}\r\n",
       "table td {\r\n",
       "    text-align: start;\r\n",
       "}\r\n",
       "table tr { \r\n",
       "    vertical-align: top; \r\n",
       "    margin: 0em 0px;\r\n",
       "}\r\n",
       "table tr td pre \r\n",
       "{ \r\n",
       "    vertical-align: top !important; \r\n",
       "    margin: 0em 0px !important;\r\n",
       "} \r\n",
       "table th {\r\n",
       "    text-align: start;\r\n",
       "}\r\n",
       "</style>"
      ]
     },
     "metadata": {},
     "output_type": "display_data"
    }
   ],
   "source": [
    "var theBestSolution = new Point(0, 0);\n",
    "\n",
    "double Distance(Point first, Point second) =>\n",
    "\tMath.Sqrt( Math.Pow(first[0] - second[0], 2) + Math.Pow(first[1] - second[1], 2) );\n",
    "\n",
    "public IEnumerable<T> GetColumn<T>(T[,] matrix, int columnNumber)\n",
    "{\n",
    "\treturn Enumerable.Range(0, matrix.GetLength(0))\n",
    "\t\t\t.Select(x => matrix[x, columnNumber]);\n",
    "}\n",
    "\n",
    "public IEnumerable<T> GetRow<T>(T[,] matrix, int rowNumber)\n",
    "{\n",
    "\treturn Enumerable.Range(0, matrix.GetLength(1))\n",
    "\t\t\t.Select(x => matrix[rowNumber, x]);\n",
    "}\n",
    "\n",
    "var bestSolutions = new List<(Point point, double distance, int idx)>();\n",
    "\n",
    "for (var i = 0; i < data.GetLength(0); i++)\n",
    "{\n",
    "\tvar row = GetRow(data, i).ToArray();\n",
    "\tvar points = row.Select(x => x.Item1).ToArray();\n",
    "\tvar bestPoint = points.MinBy(point => Distance(point, theBestSolution));\n",
    "\tbestSolutions.Add((bestPoint, Distance(bestPoint, theBestSolution), Array.IndexOf(points, bestPoint)));\n",
    "}\n",
    "\n",
    "bestSolutions"
   ]
  }
 ],
 "metadata": {
  "kernelspec": {
   "display_name": ".NET (C#)",
   "language": "C#",
   "name": ".net-csharp"
  },
  "language_info": {
   "name": "polyglot-notebook"
  },
  "polyglot_notebook": {
   "kernelInfo": {
    "defaultKernelName": "csharp",
    "items": [
     {
      "aliases": [],
      "languageName": "csharp",
      "name": "csharp"
     }
    ]
   }
  }
 },
 "nbformat": 4,
 "nbformat_minor": 2
}
